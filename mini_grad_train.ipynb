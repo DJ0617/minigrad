{
  "cells": [
    {
      "cell_type": "code",
      "execution_count": null,
      "metadata": {
        "colab": {
          "base_uri": "https://localhost:8080/"
        },
        "id": "-r4YvJx9wWkd",
        "outputId": "7db47cb4-5313-4963-febf-2110211ce88b"
      },
      "outputs": [
        {
          "name": "stdout",
          "output_type": "stream",
          "text": [
            "Drive already mounted at /content/drive; to attempt to forcibly remount, call drive.mount(\"/content/drive\", force_remount=True).\n"
          ]
        }
      ],
      "source": [
        "from google.colab import drive \n",
        "drive.mount('/content/drive')"
      ]
    },
    {
      "cell_type": "code",
      "execution_count": null,
      "metadata": {
        "id": "9vllQSx4E9oP"
      },
      "outputs": [],
      "source": [
        "## Import Packages\n",
        "import random\n",
        "import numpy as np\n",
        "import matplotlib.pyplot as plt"
      ]
    },
    {
      "cell_type": "code",
      "execution_count": null,
      "metadata": {
        "id": "7saLrsq-5Wc6"
      },
      "outputs": [],
      "source": [
        "class Scalar:\n",
        "    \n",
        "    \"\"\"\n",
        "    Basic unit of storing a single scalar value and its gradient\n",
        "    \"\"\"\n",
        "    \n",
        "    def __init__(self, data, _children=()):\n",
        "        \"\"\"\n",
        "        \n",
        "        \"\"\"\n",
        "        self.data = data\n",
        "        self.grad = 0\n",
        "        self._prev = set(_children)\n",
        "        self._backward = lambda: None\n",
        "    \n",
        "    def __add__(self, other):\n",
        "        \"\"\"\n",
        "        Args:\n",
        "            other (Any): Node to add with the class\n",
        "        \n",
        "        Returns:\n",
        "            out (callable): Function to referesh the gradient\n",
        "        \"\"\"\n",
        "        other = other if isinstance(other, Scalar) else Scalar(other)\n",
        "        out = Scalar(self.data + other.data, (self, other))\n",
        "\n",
        "        def _backward():\n",
        "            self.grad += out.grad\n",
        "            other.grad += out.grad\n",
        "        out._backward = _backward\n",
        "\n",
        "        return out\n",
        "   \n",
        "    def __mul__(self, other):\n",
        "        \"\"\"\n",
        "        Multiplication operation \n",
        "        \"\"\"\n",
        "        other = other if isinstance(other, Scalar) else Scalar(other)\n",
        "        out = Scalar(self.data * other.data, (self, other))\n",
        "\n",
        "        def _backward():\n",
        "            self.grad += other.data * out.grad\n",
        "            other.grad += self.data * out.grad\n",
        "        out._backward = _backward\n",
        "\n",
        "        return out \n",
        "\n",
        "    \n",
        "    def __pow__(self, other):\n",
        "        \"\"\"\n",
        "        Power operation \n",
        "        \"\"\"\n",
        "        assert isinstance(other, (int, float))\n",
        "        out = Scalar(self.data**other, (self,))\n",
        "\n",
        "        def _backward():\n",
        "            self.grad += other * (self.data**(other-1)) * out.grad\n",
        "        out._backward = _backward\n",
        "\n",
        "        return out \n",
        "    \n",
        "    def relu(self):\n",
        "        \"\"\"\n",
        "        ReLU activation function applied to the current Value\n",
        "        \"\"\"\n",
        "        out = Scalar(0 if self.data < 0 else self.data, (self,))\n",
        "\n",
        "        def _backward():\n",
        "\n",
        "            self.grad += (out.data > 0) * out.grad\n",
        "\n",
        "        out._backward = _backward\n",
        "\n",
        "        return out \n",
        "    \n",
        "    \n",
        "    def exp(self):\n",
        "        \"\"\"\n",
        "        Exponentiate the current Value\n",
        "        \"\"\"\n",
        "        out = Scalar(np.exp(self.data), (self,))\n",
        "\n",
        "        def _backward():\n",
        "            self.grad += out.data * out.grad\n",
        "        out._backward = _backward\n",
        "\n",
        "        return out \n",
        "    \n",
        "    def log(self):\n",
        "        \"\"\"\n",
        "        Take the natural logarithm of the current Value\n",
        "        \"\"\"\n",
        "        out = Scalar(np.log(self.data), (self, ))\n",
        "\n",
        "        def _backward():\n",
        "            self.grad += self.data**(-1) * out.grad\n",
        "        out._backward = _backward\n",
        "\n",
        "        return out \n",
        "    \n",
        "    def backward(self):\n",
        "        \"\"\"\n",
        "        Run backpropagation from the current Value\n",
        "        \"\"\"\n",
        "        def topo_list_builder():\n",
        "\n",
        "          topo, node_visit = list(), set()\n",
        "\n",
        "          def add_node(node):\n",
        "            if node not in node_visit:\n",
        "              node_visit.add(node)\n",
        "              for children in node._prev:\n",
        "                add_node(children)\n",
        "              topo.append(node)\n",
        "\n",
        "          add_node(self)\n",
        "\n",
        "          return topo\n",
        "\n",
        "        self.grad = 1\n",
        "        topo = topo_list_builder()\n",
        "        topo.reverse()\n",
        "        for v in topo:\n",
        "            v._backward()\n",
        "        \n",
        "\n",
        "    def __neg__(self): \n",
        "        \"\"\"\n",
        "        Negate the current Value\n",
        "        \"\"\"\n",
        "        return self * -1\n",
        "\n",
        "    def __radd__(self, other): \n",
        "        \"\"\"\n",
        "        Reverse addition operation \n",
        "        \"\"\"\n",
        "        return self + other\n",
        "    \n",
        "    def __sub__(self, other): \n",
        "        \"\"\"\n",
        "        Subtraction operation\n",
        "        \"\"\"\n",
        "        return self + (-other)\n",
        "    \n",
        "    def __rsub__(self, other): \n",
        "        \"\"\"\n",
        "        Reverse subtraction operation\n",
        "        \"\"\"\n",
        "        return other + (-self)\n",
        "    \n",
        "    def __rmul__(self, other): \n",
        "        \"\"\"\n",
        "        Reverse multiplication operation\n",
        "        \"\"\"\n",
        "        return self * other\n",
        "    \n",
        "    def __truediv__(self, other): \n",
        "        \"\"\"\n",
        "        Division operation\n",
        "        \"\"\"\n",
        "        return self * other**-1\n",
        "    \n",
        "    def __rtruediv__(self, other): \n",
        "        \"\"\"\n",
        "        Reverse diction operation\n",
        "        \"\"\"\n",
        "        return other * self**-1\n",
        "    \n",
        "    def __repr__(self):\n",
        "        \"\"\"\n",
        "        Class representation \n",
        "        \"\"\"\n",
        "        return f\"Value(data={self.data}, grad={self.grad})\""
      ]
    },
    {
      "cell_type": "code",
      "execution_count": null,
      "metadata": {
        "colab": {
          "base_uri": "https://localhost:8080/"
        },
        "id": "PeoL0WIL_sHD",
        "outputId": "39651234-3039-4f8d-9290-2c6ae032d76f"
      },
      "outputs": [
        {
          "name": "stdout",
          "output_type": "stream",
          "text": [
            "f:  Value(data=0.6350570548417855, grad=1)\n",
            "Gradient of f:  1\n",
            "q:  Value(data=0.4650570548417855, grad=1)\n",
            "Graident of q:  1\n",
            "d:  Value(data=0.16999999999999998, grad=1)\n",
            "Graident of d:  1\n",
            "p:  Value(data=2.1502737988572274, grad=-0.21627806425811547)\n",
            "Gradient of p:  -0.21627806425811547\n",
            "o:  Value(data=1.1502737988572274, grad=-0.21627806425811547)\n",
            "Gradient of o:  -0.21627806425811547\n",
            "r:  Value(data=0.14, grad=-0.24877899058367)\n",
            "Gradient of r:  -0.24877899058367\n",
            "h:  Value(data=-0.14, grad=0.24877899058367)\n",
            "Gradient of h:  0.24877899058367\n",
            "e:  Value(data=0.06, grad=0.24877899058367)\n",
            "Gradient of e:  0.24877899058367\n",
            "g Value(data=-0.2, grad=0.24877899058367)\n",
            "Gradient of g:  0.24877899058367\n",
            "d:  Value(data=0.16999999999999998, grad=1)\n",
            "Gradient of d:  1\n",
            "c:  Value(data=0.33999999999999997, grad=0.5)\n",
            "Gradient of c:  0.5\n",
            "b:  Value(data=0.25, grad=0.5)\n",
            "Gradient of b:  0.5\n",
            "a:  Value(data=0.09, grad=0.5)\n",
            "Gradient of a:  0.5\n",
            "Gradient of w1:  0.34975579811673396\n",
            "Gradient of w2:  -0.400488403766532\n",
            "Gradient of x1:  0.074633697175101\n",
            "Gradient of x2:  -0.124389495291835\n"
          ]
        }
      ],
      "source": [
        "## Initialize Example scalar\n",
        "w1 = Scalar(0.3)\n",
        "w2 = Scalar(-0.5)\n",
        "x1 = Scalar(0.2)\n",
        "x2 = Scalar(0.4)\n",
        "# Calculate gradient from backward propagation\n",
        "a = w1**2\n",
        "b = w2**2\n",
        "c = a + b\n",
        "d = 0.5 * c\n",
        "e = w1 * x1\n",
        "g = w2 * x2 \n",
        "h = e + g\n",
        "r = (-1)*h\n",
        "o = r.exp()\n",
        "p = o + 1\n",
        "q = 1 / (p)\n",
        "f = q + d\n",
        "f.backward()\n",
        "print('f: ', f)\n",
        "print('Gradient of f: ', f.grad)\n",
        "print('q: ', q)\n",
        "print('Graident of q: ', q.grad)\n",
        "print('d: ', d)\n",
        "print('Graident of d: ', d.grad)\n",
        "print('p: ', p)\n",
        "print('Gradient of p: ', p.grad)\n",
        "print('o: ', o)\n",
        "print('Gradient of o: ', o.grad)\n",
        "print('r: ', r)\n",
        "print('Gradient of r: ', r.grad)\n",
        "print('h: ', h)\n",
        "print('Gradient of h: ', h.grad)\n",
        "print('e: ', e)\n",
        "print('Gradient of e: ', e.grad)\n",
        "print('g', g)\n",
        "print('Gradient of g: ', g.grad)\n",
        "print('d: ', d)\n",
        "print('Gradient of d: ', d.grad)\n",
        "print('c: ', c)\n",
        "print('Gradient of c: ', c.grad)\n",
        "print('b: ', b)\n",
        "print('Gradient of b: ', b.grad)\n",
        "print('a: ', a)\n",
        "print('Gradient of a: ', a.grad)\n",
        "print('Gradient of w1: ', w1.grad)\n",
        "print('Gradient of w2: ', w2.grad)\n",
        "print('Gradient of x1: ', x1.grad)\n",
        "print('Gradient of x2: ', x2.grad)\n",
        "\n"
      ]
    },
    {
      "cell_type": "markdown",
      "metadata": {
        "id": "Lcv2k0PLg6wY"
      },
      "source": [
        "# Neural Network training\n",
        " "
      ]
    },
    {
      "cell_type": "code",
      "execution_count": null,
      "metadata": {
        "id": "NTHmcr7pLbU0"
      },
      "outputs": [],
      "source": [
        "from numpy.core.numeric import outer\n",
        "class Module:\n",
        "    \n",
        "    \"\"\"\n",
        "    Base Model Module\n",
        "    \"\"\"\n",
        "    def parameters(self):\n",
        "        return []\n",
        "\n",
        "    def zero_grad(self):\n",
        "        for p in self.parameters():\n",
        "            p.grad = 0\n",
        "\n",
        "class LinearLayer(Module):\n",
        "    \n",
        "    \"\"\"\n",
        "    Linear Layer\n",
        "    \"\"\"\n",
        "    \n",
        "    def __init__(self, nin, nout): \n",
        "        self.w = []\n",
        "        for i in range(nin):\n",
        "            w_tmp = [Scalar(random.uniform(-1,1)) for j in range(nout)]\n",
        "            self.w.append(w_tmp)\n",
        "        self.b = [Scalar(0) for i in range(nout)]\n",
        "        self.nin = nin\n",
        "        self.nout = nout\n",
        "  \n",
        "    def __call__(self, x):\n",
        "        \"\"\"\n",
        "        Args:\n",
        "            x (2d-list): Two dimensional list of Values with shape [batch_size , nin]\n",
        "        \n",
        "        Returns:\n",
        "            xout (2d-list): Two dimensional list of Values with shape [batch_size, nout] \n",
        "        \"\"\"\n",
        "\n",
        "        batch_size = len(x)\n",
        "        \n",
        "        w_dot_x = [[sum(xi * wi for xi, wi in zip(xr, wr)) for wr in zip(*self.w)] for xr in x]\n",
        "\n",
        "        out = [[w_dot_x[i][j] + self.b[j] for j in range(self.nout)] for i in range(batch_size)]\n",
        "\n",
        "        return out \n",
        "         \n",
        "  \n",
        "    def parameters(self):\n",
        "        \"\"\"\n",
        "        Get the list of parameters in the Linear Layer\n",
        "        \n",
        "        Args:\n",
        "            None\n",
        "        \n",
        "        Returns:\n",
        "            params (list): List of parameters in the layer\n",
        "        \"\"\"\n",
        "        return [p for row in self.w for p in row] + [p for p in self.b]"
      ]
    },
    {
      "cell_type": "markdown",
      "metadata": {
        "id": "6gwYpbiRfoFH"
      },
      "source": [
        "Test the implementation of linear layer"
      ]
    },
    {
      "cell_type": "code",
      "execution_count": null,
      "metadata": {
        "colab": {
          "base_uri": "https://localhost:8080/"
        },
        "id": "fHLnHUW-fydy",
        "outputId": "202bb449-21aa-4494-88c6-a4d063de6ce3"
      },
      "outputs": [
        {
          "name": "stdout",
          "output_type": "stream",
          "text": [
            "0.0\n"
          ]
        }
      ],
      "source": [
        "## Initialization of Layer with Weights\n",
        "linear_model_test = LinearLayer(4, 4)\n",
        "linear_model_test.w = [[Scalar(data=0.7433570245252463), Scalar(data=-0.9662164096144394), Scalar(data=-0.17087204941322653), Scalar(data=-0.5186656374983067)], \n",
        "                       [Scalar(data=-0.1414882837892344), Scalar(data=-0.5898971049017006), Scalar(data=-0.3448340220492381), Scalar(data=0.5278833226346107)], \n",
        "                       [Scalar(data=0.3990701306597799), Scalar(data=-0.3319058654296163), Scalar(data=-0.784797384411202), Scalar(data=0.7603317495966846)], \n",
        "                       [Scalar(data=-0.5711035064293541), Scalar(data=-0.0001937643033362857), Scalar(data=0.12693226232877053), Scalar(data=-0.36044237239197097)]]\n",
        "linear_model_test.b = [Scalar(data=0), Scalar(data=0), Scalar(data=0), Scalar(data=0)]\n",
        "\n",
        "## Forward Pass\n",
        "x_test = [[-0.17120438454836173, -0.3736077734087335, -0.48495413054653214, 0.8269206715993096]]\n",
        "y_hat_test = linear_model_test(x_test)\n",
        "y_ref = [[Scalar(data=-0.7401928625441141), Scalar(data=0.5466095223360173), Scalar(data=0.6436403600545564), Scalar(data=-0.7752067527386406)]]\n",
        "## Error Calculation\n",
        "predict_error = 0\n",
        "for i in range(4):\n",
        "   predict_error += (y_hat_test[0][i] - y_ref[0][i])**2\n",
        "print(predict_error.data)"
      ]
    },
    {
      "cell_type": "markdown",
      "metadata": {
        "id": "IfSXiqRShoM1"
      },
      "source": [
        "### Loss functions for neural network training "
      ]
    },
    {
      "cell_type": "code",
      "execution_count": null,
      "metadata": {
        "id": "KW_OLYJ_hhbY"
      },
      "outputs": [],
      "source": [
        "def softmax(y_hat):\n",
        "    \"\"\"\n",
        "    Softmax computation\n",
        "    \n",
        "    Args:\n",
        "        y_hat (2d-list): 2-dimensional list of Values with shape [batch_size, n_class]\n",
        "    \n",
        "    Returns:\n",
        "        s (2d-list): 2-dimensional list of Values with the same shape as y_hat    \n",
        "    \"\"\"\n",
        "    batch_size = len(y_hat)\n",
        "    n_class = len(y_hat[0])\n",
        "    expo_y = [[y_hat[i][j].exp() for j in range(n_class)] for i in range(batch_size)]\n",
        "    s = []\n",
        "    for i in range(batch_size):\n",
        "        s_r = []\n",
        "        exp_sum = Scalar(data=0)\n",
        "        for j in range(n_class):\n",
        "            exp_sum += expo_y[i][j]\n",
        "        for j in range(n_class):\n",
        "            s_r.append(expo_y[i][j] / exp_sum)\n",
        "        s.append(s_r)\n",
        "    return s  \n"
      ]
    },
    {
      "cell_type": "code",
      "execution_count": null,
      "metadata": {
        "id": "9xdTC9Tym6sP"
      },
      "outputs": [],
      "source": [
        "def cross_entropy_loss(y_hat, y):\n",
        "    \"\"\"\n",
        "    Cross-entropy Loss computation\n",
        "    \n",
        "    Args:\n",
        "        y_hat (2d-list): Output from linear function with shape [batch_size, n_class]\n",
        "        y (1d-list): List of ground truth labels with shape [batch_size, ]\n",
        "    \n",
        "    Returns:\n",
        "        loss (Value): Loss value of type Value\n",
        "    \"\"\"   \n",
        "    batch_size = len(y_hat)\n",
        "    n_class = len(y_hat[0])\n",
        "    y_poss = softmax(y_hat)\n",
        "    y_refo_p = [[- y_poss[i][j].log() for j in range(n_class)] for i in range(batch_size)]\n",
        "    total_loss = Scalar(data = 0)\n",
        "    for i in range(batch_size):\n",
        "        for j in range(n_class):\n",
        "            if y[i] == j: total_loss += y_refo_p[i][j]\n",
        "    loss = total_loss / batch_size\n",
        "\n",
        "    return loss"
      ]
    },
    {
      "cell_type": "code",
      "execution_count": null,
      "metadata": {
        "id": "8jeK31K85qsB"
      },
      "outputs": [],
      "source": [
        "def accuracy(y_hat, y):\n",
        "    \"\"\"\n",
        "    Accuracy computation\n",
        "    \n",
        "    Args:\n",
        "        y_hat (2d-list): Output from linear function with shape [batch_size, n_class]\n",
        "        y (1d-list): List of ground truth labels with shape [batch_size, ]\n",
        "    \n",
        "    Returns:\n",
        "        acc (float): Accuracy score\n",
        "    \"\"\"\n",
        "    batch_size = len(y)\n",
        "    n_class = len(y_hat[0])\n",
        "    num_corr = 0\n",
        "    for i in range(batch_size):\n",
        "        prd_v = y_hat[i][y[i]]\n",
        "        flag = True\n",
        "        for j in range(n_class):\n",
        "            if prd_v.data >= y_hat[i][j].data:\n",
        "                flag = True\n",
        "            else: \n",
        "                flag = False\n",
        "                break\n",
        "        if flag is True:\n",
        "            num_corr += 1\n",
        "    acc = num_corr / batch_size  \n",
        "    return acc "
      ]
    },
    {
      "cell_type": "markdown",
      "metadata": {
        "id": "jti1kRlzf14E"
      },
      "source": [
        "Test the loss function "
      ]
    },
    {
      "cell_type": "code",
      "execution_count": null,
      "metadata": {
        "colab": {
          "base_uri": "https://localhost:8080/"
        },
        "id": "My_zbUj7gBLo",
        "outputId": "6807d1d9-8b72-460a-92b7-05281cc01cc0"
      },
      "outputs": [
        {
          "name": "stdout",
          "output_type": "stream",
          "text": [
            "0.0\n",
            "0.0\n",
            "0.0\n",
            "0.0\n"
          ]
        }
      ],
      "source": [
        "## Ground Truth + Forward Pass\n",
        "y_gt = [1]\n",
        "y_hat_test = linear_model_test(x_test)\n",
        "prob_test = softmax(y_hat_test)\n",
        "prob_ref = [[0.10441739448437284, 0.37811510516540814, 0.4166428991676558, 0.10082460118256342]]\n",
        "softmax_error = 0\n",
        "for i in range(4):\n",
        "    softmax_error += (prob_ref[0][i] - prob_test[0][i])**2\n",
        "print(softmax_error.data)\n",
        "\n",
        "## Cross Entropy Loss Calculation\n",
        "loss_test = cross_entropy_loss(y_hat_test, y_gt)\n",
        "loss_ref = Scalar(data=0.9725566186970217)\n",
        "print((loss_test - loss_ref).data)\n",
        "\n",
        "## Update Gradient Based on Loss\n",
        "linear_model_test.zero_grad()\n",
        "loss_test.backward()\n",
        "w_gradient_ref = [[-0.017876715758840547, 0.10646942068007896, -0.07133109112844363, -0.01726161379279479], \n",
        "                  [-0.0390111502584479, 0.23234103087567629, -0.1556610258645873, -0.03766885475264107], \n",
        "                  [-0.05063764675610328, 0.30158564847453107, -0.2020526949142369, -0.04889530680419089], \n",
        "                  [0.08634490197366762, -0.5142494748940867, 0.3445306259968013, 0.08337394692361787]]\n",
        "b_gradient_ref = [0.10441739448437282, -0.6218848948345919, 0.4166428991676557, 0.1008246011825634]\n",
        "## Compute Error\n",
        "w_gradient_error = 0\n",
        "b_gradient_error = 0\n",
        "for i in range(4):\n",
        "    b_gradient_error += (linear_model_test.b[i].grad - b_gradient_ref[i]) ** 2\n",
        "    for j in range(4):\n",
        "        w_gradient_error += (linear_model_test.w[i][j].grad - w_gradient_ref[i][j]) ** 2\n",
        "print(w_gradient_error)\n",
        "print(b_gradient_error)"
      ]
    },
    {
      "cell_type": "markdown",
      "metadata": {
        "id": "ovsoGs3_ljNC"
      },
      "source": [
        "Visualize the ground truth and the decision boundary."
      ]
    },
    {
      "cell_type": "code",
      "execution_count": null,
      "metadata": {
        "id": "B9kPT-caWUaw"
      },
      "outputs": [],
      "source": [
        "def plot_points(X, Y, scale, n, data):\n",
        "    \"\"\"\n",
        "    Plot points in the visualization image\n",
        "    \"\"\"\n",
        "    points_color = [[0., 0. , 255.], [255., 0., 0.], [0., 255., 0.],[0., 0. , 0.]]\n",
        "    \n",
        "    for i in range(X.shape[0]):\n",
        "            c1 = int((X[i][0] + scale) / (scale * 2 / n))\n",
        "            c2 = int((X[i][1] + scale) / (scale * 2 / n))\n",
        "            class_label = int(Y[i])\n",
        "            for j in range(3):\n",
        "              data[c1][c2][j] = points_color[class_label][j]   \n",
        "    return data\n",
        "\n",
        "\n",
        "def plot_background(scale, n, model):\n",
        "    \"\"\"\n",
        "    Color the background in the visualization image\n",
        "    \"\"\"\n",
        "\n",
        "    background_color = [[0., 191., 255.], [255., 110., 180.], [202., 255., 112.],[156., 156., 156.]]\n",
        "\n",
        " \n",
        "    data = np.zeros((n,n,3), dtype='uint8')\n",
        "\n",
        "    for i in range(n):\n",
        "        x1 = -scale + 2 * scale / n * i\n",
        "        for j in range(n):\n",
        "            x2 = -scale + 2 * scale / n * j\n",
        "            input = [[Scalar(x1),Scalar(x2)]]\n",
        "            y_pred = model(input)\n",
        "            max_poss = None\n",
        "            class_label = None\n",
        "            for a in range(len(y_pred[0])):\n",
        "                if not max_poss:\n",
        "                    max_poss = y_pred[0][a].data\n",
        "                    class_label = a\n",
        "                elif y_pred[0][a].data > max_poss:\n",
        "                    max_poss = y_pred[0][a].data\n",
        "                    class_label = a\n",
        "            for b in range(3):\n",
        "                data[i][j][b] = background_color[class_label][b]\n",
        "    return data\n",
        "\n",
        "def visualization(X, Y, model):\n",
        "    \"\"\"\n",
        "    Decision boundary visualization\n",
        "    \"\"\"\n",
        "    scale = 4.5  # the scale of X axis and Y axis\n",
        "    n = 300      # seperate the image into n*n pixels \n",
        "\n",
        "    data = plot_background (scale, n, model)\n",
        "   \n",
        "    data = plot_points (X, Y, scale, n, data)\n",
        "    \n",
        "    plt.imshow(data)\n",
        "    plt.axis('off')\n",
        "    plt.show()"
      ]
    },
    {
      "cell_type": "code",
      "execution_count": null,
      "metadata": {
        "id": "d9b1UnDTO12e"
      },
      "outputs": [],
      "source": [
        "def train(x,\n",
        "          y,\n",
        "          model,\n",
        "          loss_function=cross_entropy_loss, \n",
        "          accuracy_function=accuracy,\n",
        "          max_iteration=500,\n",
        "          learning_rate=1):\n",
        "    \"\"\"\n",
        "    Args:\n",
        "       x (2-d list): List of Values with shape: [n_samples, n_channels]\n",
        "       y (1-d list): List of integers with shape: [n_samples]\n",
        "       model (Module): Linear model\n",
        "       loss_function (callable): Loss function to use during training\n",
        "       accuracy_function (callable): Function used for calculating training accuracy\n",
        "       max_iteration (int): Number of epochs to train model for\n",
        "       learning_rate (numeric): Step size of the gradient update\n",
        "    \"\"\"\n",
        "    for i in range(max_iteration):\n",
        "\n",
        "        y_hat = model(x)\n",
        "        loss = cross_entropy_loss(y_hat, y)\n",
        "        acc = accuracy(y_hat, y)\n",
        "\n",
        "        model.zero_grad()\n",
        "        loss.backward()\n",
        "\n",
        "        for p in model.parameters():\n",
        "            p.data -= learning_rate * p.grad\n",
        "\n",
        "        if i % 20 == 19:\n",
        "            print(\"iteration\",i,\"loss:\",loss.data, \"accuracy:\",acc)\n",
        "        ## record loss\n",
        "        if i == 0 :\n",
        "        # initialize L\n",
        "            L = loss.data\n",
        "            A = acc\n",
        "        else:\n",
        "            L = np.append(L,loss.data)\n",
        "            A = np.append(A,acc)\n",
        "    \n",
        "    ## Plot Loss and Accuracy\n",
        "    fig0=plt.figure(0)\n",
        "    plt.plot(L,'-')\n",
        "    plt.xlabel('Iteration', fontsize=18)\n",
        "    plt.ylabel('Loss', fontsize=16)\n",
        "    plt.show()\n",
        "    fig1=plt.figure(1)\n",
        "    plt.plot(A,'-')\n",
        "    plt.xlabel('Iteration', fontsize=18)\n",
        "    plt.ylabel('Accuracy', fontsize=16)\n",
        "    plt.show()\n"
      ]
    },
    {
      "cell_type": "code",
      "execution_count": null,
      "metadata": {
        "colab": {
          "base_uri": "https://localhost:8080/",
          "height": 1000
        },
        "id": "pOHM_FgtoUyu",
        "outputId": "c3bee6f9-2f57-47ef-f6d4-3dac11f7bf50"
      },
      "outputs": [
        {
          "name": "stdout",
          "output_type": "stream",
          "text": [
            "(100, 2) (100,) [0 1 2 3]\n",
            "iteration 19 loss: 0.5675427657305332 accuracy: 0.95\n",
            "iteration 39 loss: 0.4177864689433749 accuracy: 0.96\n",
            "iteration 59 loss: 0.3475019354074304 accuracy: 0.97\n",
            "iteration 79 loss: 0.30424548725276107 accuracy: 0.98\n",
            "iteration 99 loss: 0.2740834062405217 accuracy: 0.98\n",
            "iteration 119 loss: 0.25145715338141833 accuracy: 0.99\n",
            "iteration 139 loss: 0.23364293000298764 accuracy: 0.99\n",
            "iteration 159 loss: 0.21912504724915757 accuracy: 0.99\n",
            "iteration 179 loss: 0.20698317104582334 accuracy: 0.99\n",
            "iteration 199 loss: 0.19662156110825282 accuracy: 0.99\n",
            "iteration 219 loss: 0.18763520082834784 accuracy: 0.99\n",
            "iteration 239 loss: 0.1797378116153055 accuracy: 0.99\n",
            "iteration 259 loss: 0.17272052907452076 accuracy: 0.99\n",
            "iteration 279 loss: 0.16642690277747998 accuracy: 0.99\n",
            "iteration 299 loss: 0.16073710506332994 accuracy: 0.99\n",
            "iteration 319 loss: 0.15555758988352691 accuracy: 0.99\n",
            "iteration 339 loss: 0.15081410949290056 accuracy: 1.0\n",
            "iteration 359 loss: 0.1464468722166137 accuracy: 1.0\n",
            "iteration 379 loss: 0.14240710654017666 accuracy: 1.0\n",
            "iteration 399 loss: 0.13865457315117238 accuracy: 1.0\n",
            "iteration 419 loss: 0.13515573071237183 accuracy: 1.0\n",
            "iteration 439 loss: 0.13188236169778475 accuracy: 1.0\n",
            "iteration 459 loss: 0.12881052792320508 accuracy: 1.0\n",
            "iteration 479 loss: 0.1259197662344553 accuracy: 1.0\n",
            "iteration 499 loss: 0.12319246173711207 accuracy: 1.0\n"
          ]
        },
        {
          "data": {
            "image/png": "[encoded data removed]",
            "text/plain": [
              "<Figure size 432x288 with 1 Axes>"
            ]
          },
          "metadata": {
            "needs_background": "light"
          },
          "output_type": "display_data"
        },
        {
          "data": {
            "image/png": "[encoded data removed]",
            "text/plain": [
              "<Figure size 432x288 with 1 Axes>"
            ]
          },
          "metadata": {
            "needs_background": "light"
          },
          "output_type": "display_data"
        }
      ],
      "source": [
        "## Load Dataset\n",
        "datapath = '/content/drive/My Drive/Q3_data.npz'\n",
        "data = np.load(datapath)\n",
        "\n",
        "## Load Data and Parse Shape Information\n",
        "X = data['X']\n",
        "Y = data['Y']\n",
        "print(X.shape, Y.shape, np.unique(Y))\n",
        "nin = X.shape[1]\n",
        "nout = np.max(Y) + 1\n",
        "\n",
        "## Initialize data \n",
        "x = [[Scalar(v) for v in sample] for sample in X]\n",
        "y = [int(v) for v in Y]\n",
        "\n",
        "## Initialize a Linear Model\n",
        "linear_model = LinearLayer(nin, nout)\n",
        "\n",
        "## Train the Model \n",
        "train(x, y, linear_model)"
      ]
    },
    {
      "cell_type": "code",
      "execution_count": null,
      "metadata": {
        "colab": {
          "base_uri": "https://localhost:8080/",
          "height": 248
        },
        "id": "nEUUcgHEM6of",
        "outputId": "7a28c86c-8c11-46fe-e711-b1d092ee1e20"
      },
      "outputs": [
        {
          "data": {
            "image/png": "[encoded data removed]",
            "text/plain": [
              "<Figure size 432x288 with 1 Axes>"
            ]
          },
          "metadata": {
            "needs_background": "light"
          },
          "output_type": "display_data"
        }
      ],
      "source": [
        "visualization(X, Y, linear_model)"
      ]
    },
    {
      "cell_type": "code",
      "execution_count": null,
      "metadata": {
        "id": "N1BHFxm4Ix2c"
      },
      "outputs": [],
      "source": [
        "## Load Dataset \n",
        "datapath = '/content/drive/My Drive/Q4_data.npz'\n",
        "data = np.load(datapath)\n",
        "\n",
        "## Parse Data and Identify Dimensions\n",
        "X = data['X']\n",
        "Y = data['Y']\n",
        "nin = X.shape[1]\n",
        "nout = int(np.max(Y)) + 1\n",
        "\n",
        "## Initialize data \n",
        "x = [[Scalar(v) for v in sample] for sample in X]\n",
        "y = [int(v) for v in Y]"
      ]
    },
    {
      "cell_type": "code",
      "execution_count": null,
      "metadata": {
        "colab": {
          "base_uri": "https://localhost:8080/",
          "height": 1000
        },
        "id": "qlFvA3CCS33X",
        "outputId": "f7696289-df48-4232-c6ff-02b756de39ba"
      },
      "outputs": [
        {
          "name": "stdout",
          "output_type": "stream",
          "text": [
            "iteration 19 loss: 0.3768932987188556 accuracy: 0.8\n",
            "iteration 39 loss: 0.3590982655159472 accuracy: 0.8\n",
            "iteration 59 loss: 0.35138768418814403 accuracy: 0.825\n",
            "iteration 79 loss: 0.3468552476182405 accuracy: 0.825\n",
            "iteration 99 loss: 0.3438600416871122 accuracy: 0.825\n",
            "iteration 119 loss: 0.34174979951582024 accuracy: 0.825\n",
            "iteration 139 loss: 0.3402004272900199 accuracy: 0.825\n",
            "iteration 159 loss: 0.3390298059363872 accuracy: 0.825\n",
            "iteration 179 loss: 0.33812665520562324 accuracy: 0.85\n",
            "iteration 199 loss: 0.3374186263580078 accuracy: 0.85\n",
            "iteration 219 loss: 0.33685643358123396 accuracy: 0.85\n",
            "iteration 239 loss: 0.3364052980787908 accuracy: 0.85\n",
            "iteration 259 loss: 0.3360400096559446 accuracy: 0.85\n",
            "iteration 279 loss: 0.3357419076649295 accuracy: 0.85\n",
            "iteration 299 loss: 0.33549694583500816 accuracy: 0.85\n",
            "iteration 319 loss: 0.33529440363169893 accuracy: 0.85\n",
            "iteration 339 loss: 0.3351260016896108 accuracy: 0.85\n",
            "iteration 359 loss: 0.3349852797402922 accuracy: 0.85\n",
            "iteration 379 loss: 0.3348671505053078 accuracy: 0.85\n",
            "iteration 399 loss: 0.3347675745811276 accuracy: 0.85\n",
            "iteration 419 loss: 0.3346833202511358 accuracy: 0.85\n",
            "iteration 439 loss: 0.33461178393460506 accuracy: 0.85\n",
            "iteration 459 loss: 0.33455085455649497 accuracy: 0.85\n",
            "iteration 479 loss: 0.3344988101270675 accuracy: 0.85\n",
            "iteration 499 loss: 0.33445423820232195 accuracy: 0.85\n"
          ]
        },
        {
          "data": {
            "image/png": "[encoded data removed]",
            "text/plain": [
              "<Figure size 432x288 with 1 Axes>"
            ]
          },
          "metadata": {
            "needs_background": "light"
          },
          "output_type": "display_data"
        },
        {
          "data": {
            "image/png": "[encoded data removed]",
            "text/plain": [
              "<Figure size 432x288 with 1 Axes>"
            ]
          },
          "metadata": {
            "needs_background": "light"
          },
          "output_type": "display_data"
        }
      ],
      "source": [
        "## Initialize Linear Model\n",
        "linear_model = LinearLayer(nin, nout)\n",
        "\n",
        "## Train Model\n",
        "train(x, y, linear_model)"
      ]
    },
    {
      "cell_type": "code",
      "execution_count": null,
      "metadata": {
        "colab": {
          "base_uri": "https://localhost:8080/",
          "height": 248
        },
        "id": "8cFD2eQ2WWUQ",
        "outputId": "0717fc45-6d98-470a-f247-08e7fbae7087"
      },
      "outputs": [
        {
          "data": {
            "image/png": "[encoded data removed]",
            "text/plain": [
              "<Figure size 432x288 with 1 Axes>"
            ]
          },
          "metadata": {
            "needs_background": "light"
          },
          "output_type": "display_data"
        }
      ],
      "source": [
        "visualization(X, Y, linear_model)"
      ]
    },
    {
      "cell_type": "code",
      "execution_count": 277,
      "metadata": {
        "id": "ldxalUrYLOZW"
      },
      "outputs": [],
      "source": [
        "class MLP(Module):\n",
        "    \n",
        "    \"\"\"\n",
        "    Multi Layer Perceptron\n",
        "    \"\"\"\n",
        "    def __init__(self, dimensions):\n",
        "        \"\"\"\n",
        "        Initialize multiple layers here in the list named self.linear_layers\n",
        "        \"\"\"\n",
        "        assert isinstance(dimensions, list)\n",
        "        assert len(dimensions) > 2\n",
        "        self.linear_layers = []\n",
        "        for i in range(len(dimensions) - 1):\n",
        "            self.linear_layers.append(LinearLayer(dimensions[i], dimensions[i+1]))\n",
        "\n",
        "    def __call__(self, x):\n",
        "        \"\"\"\n",
        "        Args:\n",
        "            x (2d-list): Two dimensional list of Values with shape [batch_size , nin]\n",
        "        \n",
        "        Returns:\n",
        "            xout (2d-list): Two dimensional list of Values with shape [batch_size, nout]\n",
        "        \"\"\"\n",
        "        num_l = len(self.linear_layers)\n",
        "        x_out = [x]\n",
        "        for n in range(num_l):\n",
        "            pro_out = self.linear_layers[n](x_out.pop())\n",
        "            if n == (num_l - 1): return pro_out\n",
        "            next_input = [[pro_out[i][j].relu() for j in range(len(pro_out[0]))] for i in range(len(pro_out))]\n",
        "            x_out.append(next_input)\n",
        "        return x_out\n",
        "  \n",
        "    def parameters(self):\n",
        "        \"\"\"\n",
        "        Get the parameters of each layer\n",
        "        \n",
        "        Args:\n",
        "            None\n",
        "        \n",
        "        Returns:\n",
        "            params (list of Values): Parameters of the MLP\n",
        "        \"\"\"\n",
        "        return [p for layer in self.linear_layers for p in layer.parameters()]\n",
        "  \n",
        "    def zero_grad(self):\n",
        "        \"\"\"\n",
        "        Zero out the gradient of each parameter\n",
        "        \"\"\"\n",
        "        for p in self.parameters():\n",
        "            p.grad = 0"
      ]
    },
    {
      "cell_type": "code",
      "execution_count": 278,
      "metadata": {
        "colab": {
          "base_uri": "https://localhost:8080/",
          "height": 1000
        },
        "id": "H_zTwbDZQ4I4",
        "outputId": "642b1baf-aa07-468e-e749-bac64d3e5c0b"
      },
      "outputs": [
        {
          "name": "stdout",
          "output_type": "stream",
          "text": [
            "iteration 19 loss: 0.3306487610644256 accuracy: 0.825\n",
            "iteration 39 loss: 0.30343020310158914 accuracy: 0.9\n",
            "iteration 59 loss: 0.26920221432224434 accuracy: 0.9\n",
            "iteration 79 loss: 0.238430417779639 accuracy: 0.925\n",
            "iteration 99 loss: 0.22599538498035426 accuracy: 0.925\n",
            "iteration 119 loss: 0.21345149302602398 accuracy: 0.925\n",
            "iteration 139 loss: 0.19826615681781895 accuracy: 0.925\n",
            "iteration 159 loss: 0.18482138612261612 accuracy: 0.925\n",
            "iteration 179 loss: 0.18439171224804576 accuracy: 0.925\n",
            "iteration 199 loss: 0.1597581174407659 accuracy: 0.925\n",
            "iteration 219 loss: 0.15461822921465618 accuracy: 0.925\n",
            "iteration 239 loss: 0.14383775091932738 accuracy: 0.925\n",
            "iteration 259 loss: 0.16128271052144028 accuracy: 0.925\n",
            "iteration 279 loss: 0.1618334509468405 accuracy: 0.95\n",
            "iteration 299 loss: 0.15009374358605473 accuracy: 0.95\n",
            "iteration 319 loss: 0.12403272772593538 accuracy: 0.95\n",
            "iteration 339 loss: 0.14636352319366358 accuracy: 0.95\n",
            "iteration 359 loss: 0.1370511329355529 accuracy: 0.95\n",
            "iteration 379 loss: 0.13376873381985566 accuracy: 0.95\n",
            "iteration 399 loss: 0.14235779632027015 accuracy: 0.95\n",
            "iteration 419 loss: 0.13644254651428264 accuracy: 0.95\n",
            "iteration 439 loss: 0.09918896729856286 accuracy: 0.95\n",
            "iteration 459 loss: 0.1376833432641416 accuracy: 0.95\n",
            "iteration 479 loss: 0.08720518263289528 accuracy: 0.975\n",
            "iteration 499 loss: 0.13704646237754517 accuracy: 0.95\n"
          ]
        },
        {
          "data": {
            "image/png": "[encoded data removed]",
            "text/plain": [
              "<Figure size 432x288 with 1 Axes>"
            ]
          },
          "metadata": {
            "needs_background": "light"
          },
          "output_type": "display_data"
        },
        {
          "data": {
            "image/png": "[encoded data removed]",
            "text/plain": [
              "<Figure size 432x288 with 1 Axes>"
            ]
          },
          "metadata": {
            "needs_background": "light"
          },
          "output_type": "display_data"
        }
      ],
      "source": [
        "## Initialize MLP \n",
        "mlp_model = MLP([nin, 40, nout])\n",
        "\n",
        "## Train the MLP\n",
        "train(x, y, mlp_model)"
      ]
    },
    {
      "cell_type": "code",
      "execution_count": null,
      "metadata": {
        "colab": {
          "base_uri": "https://localhost:8080/",
          "height": 248
        },
        "id": "sr2-BMquWPg_",
        "outputId": "f710c36e-4396-4f98-d30f-01f1cd533230"
      },
      "outputs": [
        {
          "data": {
            "image/png": "[encoded data removed]",
            "text/plain": [
              "<Figure size 432x288 with 1 Axes>"
            ]
          },
          "metadata": {
            "needs_background": "light"
          },
          "output_type": "display_data"
        }
      ],
      "source": [
        "visualization(X, Y, mlp_model)"
      ]
    }
  ],
  "metadata": {
    "colab": {
      "collapsed_sections": [
        "GSoTfLFsau-Q"
      ],
      "name": "DaijieBao_Homework2edit.ipynb",
      "provenance": []
    },
    "kernelspec": {
      "display_name": "Python 3",
      "language": "python",
      "name": "python3"
    },
    "language_info": {
      "codemirror_mode": {
        "name": "ipython",
        "version": 3
      },
      "file_extension": ".py",
      "mimetype": "text/x-python",
      "name": "python",
      "nbconvert_exporter": "python",
      "pygments_lexer": "ipython3",
      "version": "3.7.9"
    }
  },
  "nbformat": 4,
  "nbformat_minor": 0
}
